{
 "cells": [
  {
   "cell_type": "code",
   "execution_count": 1,
   "id": "f83ebd6a",
   "metadata": {},
   "outputs": [],
   "source": [
    "class Book:\n",
    "    def __init__(self, title, author, isbn, genre, quantity):\n",
    "        self.title = title\n",
    "        self.author = author\n",
    "        self.isbn = isbn\n",
    "        self.genre = genre\n",
    "        self.quantity = quantity\n",
    "\n",
    "    def update(self, title=None, author=None, quantity=None):\n",
    "        if title:\n",
    "            self.title = title\n",
    "        if author:\n",
    "            self.author = author\n",
    "        if quantity is not None:\n",
    "            self.quantity = quantity\n",
    "\n",
    "    def __str__(self):\n",
    "        return f\"{self.title} by {self.author}, Genre: {self.genre}, ISBN: {self.isbn}, Available: {self.quantity}\""
   ]
  },
  {
   "cell_type": "code",
   "execution_count": 2,
   "id": "567f4744",
   "metadata": {},
   "outputs": [],
   "source": [
    "class Borrower:\n",
    "    def __init__(self, name, contact, membership_id):\n",
    "        self.name = name\n",
    "        self.contact = contact\n",
    "        self.membership_id = membership_id\n",
    "\n",
    "    def update(self, name=None, contact=None):\n",
    "        if name:\n",
    "            self.name = name\n",
    "        if contact:\n",
    "            self.contact = contact\n",
    "\n",
    "    def __str__(self):\n",
    "        return f\"Borrower: {self.name}, Contact: {self.contact}, ID: {self.membership_id}\""
   ]
  },
  {
   "cell_type": "code",
   "execution_count": 3,
   "id": "2f53bc9f",
   "metadata": {},
   "outputs": [],
   "source": [
    "class Library:\n",
    "    def __init__(self):\n",
    "        self.books = {}\n",
    "        self.borrowers = {}\n",
    "        self.borrowed_books = {}\n",
    "\n",
    "    # Add new book to the library\n",
    "    def add_book(self, book):\n",
    "        self.books[book.isbn] = book\n",
    "\n",
    "    # Update existing book information\n",
    "    def update_book(self, isbn, title=None, author=None, quantity=None):\n",
    "        if isbn in self.books:\n",
    "            self.books[isbn].update(title, author, quantity)\n",
    "\n",
    "    # Remove book from the library\n",
    "    def remove_book(self, isbn):\n",
    "        if isbn in self.books:\n",
    "            del self.books[isbn]\n",
    "\n",
    "    # Add new borrower to the library\n",
    "    def add_borrower(self, borrower):\n",
    "        self.borrowers[borrower.membership_id] = borrower\n",
    "\n",
    "    # Update borrower information\n",
    "    def update_borrower(self, membership_id, name=None, contact=None):\n",
    "        if membership_id in self.borrowers:\n",
    "            self.borrowers[membership_id].update(name, contact)\n",
    "\n",
    "    # Remove borrower from the library\n",
    "    def remove_borrower(self, membership_id):\n",
    "        if membership_id in self.borrowers:\n",
    "            del self.borrowers[membership_id]\n",
    "\n",
    "    # Borrow book from the library\n",
    "    def borrow_book(self, membership_id, isbn, due_date):\n",
    "        if isbn in self.books and self.books[isbn].quantity > 0:\n",
    "            self.books[isbn].quantity -= 1\n",
    "            if membership_id not in self.borrowed_books:\n",
    "                self.borrowed_books[membership_id] = []\n",
    "            self.borrowed_books[membership_id].append((isbn, due_date))\n",
    "        else:\n",
    "            print(\"Book not available\")\n",
    "\n",
    "    # Return book to the library\n",
    "    def return_book(self, membership_id, isbn):\n",
    "        if membership_id in self.borrowed_books:\n",
    "            for book in self.borrowed_books[membership_id]:\n",
    "                if book[0] == isbn:\n",
    "                    self.borrowed_books[membership_id].remove(book)\n",
    "                    self.books[isbn].quantity += 1\n",
    "                    break\n",
    "\n",
    "    # Search books by title, author, or genre\n",
    "    def search_books(self, title=None, author=None, genre=None):\n",
    "        results = []\n",
    "        for book in self.books.values():\n",
    "            if (title and title.lower() in book.title.lower()) or \\\n",
    "               (author and author.lower() in book.author.lower()) or \\\n",
    "               (genre and genre.lower() in book.genre.lower()):\n",
    "                results.append(book)\n",
    "        return results\n",
    "\n",
    "    # Display all books in the library\n",
    "    def display_books(self):\n",
    "        for book in self.books.values():\n",
    "            print(book)\n",
    "\n",
    "    # Display all borrowers in the library\n",
    "    def display_borrowers(self):\n",
    "        for borrower in self.borrowers.values():\n",
    "            print(borrower)"
   ]
  },
  {
   "cell_type": "code",
   "execution_count": 4,
   "id": "241c0406",
   "metadata": {},
   "outputs": [],
   "source": [
    "library = Library()\n",
    "\n",
    "telugu_books = [\n",
    "    Book(\"Maa Telugu Talli\", \"Nannayya\", \"111222333\", \"Telugu\", 10),\n",
    "    Book(\"Veyi Padagalu\", \"Viswanatha Satyanarayana\", \"444555666\", \"Telugu\", 7),\n",
    "    Book(\"Amaravati Kathalu\", \"Satyam Sankaramanchi\", \"777888999\", \"Telugu\", 8),\n",
    "    Book(\"Yajnaseni\", \"Pratibha Ray\", \"101010101\", \"Telugu\", 6),\n",
    "    Book(\"Aavakaaya Manaa Andhra\", \"Ranganayakamma\", \"202020202\", \"Telugu\", 5),\n",
    "    Book(\"Parijatapaharanamu\", \"Nanne Choda\", \"303030303\", \"Telugu\", 4),\n",
    "    Book(\"Pandavodyam\", \"Gurajada Apparao\", \"404040404\", \"Telugu\", 6),\n",
    "    Book(\"Andhra Mahabharatam\", \"Nannayya, Tikkana, Errana\", \"505050505\", \"Telugu\", 10),\n",
    "    Book(\"Swapna Vasavadatta\", \"Bhasa\", \"606060606\", \"Telugu\", 7),\n",
    "    Book(\"Gona Ganna Reddy\", \"Adavi Bapiraju\", \"707070707\", \"Telugu\", 5),\n",
    "    Book(\"Sahityam\", \"Dr. C. Narayana Reddy\", \"808080808\", \"Telugu\", 8),\n",
    "    Book(\"Sita Ramayana\", \"Viswanatha Satyanarayana\", \"909090909\", \"Telugu\", 6),\n",
    "    Book(\"Sri Ramayana Darshanam\", \"K. V. Puttappa\", \"111111111\", \"Telugu\", 7),\n",
    "    Book(\"Chandamama Kathalu\", \"Various Authors\", \"121212121\", \"Telugu\", 9),\n",
    "    Book(\"Baahubali: The Beginning\", \"S. S. Rajamouli\", \"131313131\", \"Movie\", 10),\n",
    "    Book(\"Baahubali: The Conclusion\", \"S. S. Rajamouli\", \"141414141\", \"Movie\", 9),\n",
    "    Book(\"Magadheera\", \"S. S. Rajamouli\", \"151515151\", \"Movie\", 8),\n",
    "    Book(\"Eega\", \"S. S. Rajamouli\", \"161616161\", \"Movie\", 7),\n",
    "    Book(\"Sye\", \"S. S. Rajamouli\", \"171717171\", \"Movie\", 6),\n",
    "    Book(\"Mahanati\", \"Nag Ashwin\", \"181818181\", \"Movie\", 5)\n",
    "]\n",
    "\n",
    "for book in telugu_books:\n",
    "    library.add_book(book)\n"
   ]
  },
  {
   "cell_type": "code",
   "execution_count": 5,
   "id": "37a33439",
   "metadata": {},
   "outputs": [],
   "source": [
    "borrowers = [\n",
    "    Borrower(\"Sai Prabhu\", \"1234567890\", \"M123\"),\n",
    "    Borrower(\"Tulasi\", \"9876543210\", \"M124\"),\n",
    "    Borrower(\"Ajad\", \"4567891230\", \"M125\"),\n",
    "    Borrower(\"Vedya MahaLakshmi\", \"3216549870\", \"M126\")\n",
    "]\n",
    "\n",
    "for borrower in borrowers:\n",
    "    library.add_borrower(borrower)\n"
   ]
  },
  {
   "cell_type": "code",
   "execution_count": 6,
   "id": "2d13c9ea",
   "metadata": {},
   "outputs": [],
   "source": [
    "# Book Borrowing: Borrowing books\n",
    "library.borrow_book(\"M123\", \"111222333\", \"2024-07-01\")\n",
    "library.borrow_book(\"M124\", \"444555666\", \"2024-08-01\")\n",
    "library.borrow_book(\"M125\", \"777888999\", \"2024-07-30\")\n"
   ]
  },
  {
   "cell_type": "code",
   "execution_count": 7,
   "id": "9ce3c490",
   "metadata": {},
   "outputs": [
    {
     "name": "stdout",
     "output_type": "stream",
     "text": [
      "Telugu books in the library:\n",
      "Maa Telugu Talli by Nannayya, Genre: Telugu, ISBN: 111222333, Available: 9\n",
      "Veyi Padagalu by Viswanatha Satyanarayana, Genre: Telugu, ISBN: 444555666, Available: 6\n",
      "Amaravati Kathalu by Satyam Sankaramanchi, Genre: Telugu, ISBN: 777888999, Available: 7\n",
      "Yajnaseni by Pratibha Ray, Genre: Telugu, ISBN: 101010101, Available: 6\n",
      "Aavakaaya Manaa Andhra by Ranganayakamma, Genre: Telugu, ISBN: 202020202, Available: 5\n",
      "Parijatapaharanamu by Nanne Choda, Genre: Telugu, ISBN: 303030303, Available: 4\n",
      "Pandavodyam by Gurajada Apparao, Genre: Telugu, ISBN: 404040404, Available: 6\n",
      "Andhra Mahabharatam by Nannayya, Tikkana, Errana, Genre: Telugu, ISBN: 505050505, Available: 10\n",
      "Swapna Vasavadatta by Bhasa, Genre: Telugu, ISBN: 606060606, Available: 7\n",
      "Gona Ganna Reddy by Adavi Bapiraju, Genre: Telugu, ISBN: 707070707, Available: 5\n",
      "Sahityam by Dr. C. Narayana Reddy, Genre: Telugu, ISBN: 808080808, Available: 8\n",
      "Sita Ramayana by Viswanatha Satyanarayana, Genre: Telugu, ISBN: 909090909, Available: 6\n",
      "Sri Ramayana Darshanam by K. V. Puttappa, Genre: Telugu, ISBN: 111111111, Available: 7\n",
      "Chandamama Kathalu by Various Authors, Genre: Telugu, ISBN: 121212121, Available: 9\n",
      "\n",
      "Telugu movie-related books in the library:\n",
      "Baahubali: The Beginning by S. S. Rajamouli, Genre: Movie, ISBN: 131313131, Available: 10\n",
      "Baahubali: The Conclusion by S. S. Rajamouli, Genre: Movie, ISBN: 141414141, Available: 9\n",
      "Magadheera by S. S. Rajamouli, Genre: Movie, ISBN: 151515151, Available: 8\n",
      "Eega by S. S. Rajamouli, Genre: Movie, ISBN: 161616161, Available: 7\n",
      "Sye by S. S. Rajamouli, Genre: Movie, ISBN: 171717171, Available: 6\n",
      "Mahanati by Nag Ashwin, Genre: Movie, ISBN: 181818181, Available: 5\n"
     ]
    }
   ],
   "source": [
    "print(\"Telugu books in the library:\")\n",
    "telugu_books_list = library.search_books(genre=\"Telugu\")\n",
    "for book in telugu_books_list:\n",
    "    print(book)\n",
    "\n",
    "print(\"\\nTelugu movie-related books in the library:\")\n",
    "telugu_movie_books_list = library.search_books(genre=\"Movie\")\n",
    "for book in telugu_movie_books_list:\n",
    "    print(book)\n"
   ]
  },
  {
   "cell_type": "code",
   "execution_count": 8,
   "id": "47149591",
   "metadata": {},
   "outputs": [
    {
     "name": "stdout",
     "output_type": "stream",
     "text": [
      "\n",
      "Telugu books in the library after returning one:\n",
      "Maa Telugu Talli by Nannayya, Genre: Telugu, ISBN: 111222333, Available: 10\n",
      "Veyi Padagalu by Viswanatha Satyanarayana, Genre: Telugu, ISBN: 444555666, Available: 6\n",
      "Amaravati Kathalu by Satyam Sankaramanchi, Genre: Telugu, ISBN: 777888999, Available: 7\n",
      "Yajnaseni by Pratibha Ray, Genre: Telugu, ISBN: 101010101, Available: 6\n",
      "Aavakaaya Manaa Andhra by Ranganayakamma, Genre: Telugu, ISBN: 202020202, Available: 5\n",
      "Parijatapaharanamu by Nanne Choda, Genre: Telugu, ISBN: 303030303, Available: 4\n",
      "Pandavodyam by Gurajada Apparao, Genre: Telugu, ISBN: 404040404, Available: 6\n",
      "Andhra Mahabharatam by Nannayya, Tikkana, Errana, Genre: Telugu, ISBN: 505050505, Available: 10\n",
      "Swapna Vasavadatta by Bhasa, Genre: Telugu, ISBN: 606060606, Available: 7\n",
      "Gona Ganna Reddy by Adavi Bapiraju, Genre: Telugu, ISBN: 707070707, Available: 5\n",
      "Sahityam by Dr. C. Narayana Reddy, Genre: Telugu, ISBN: 808080808, Available: 8\n",
      "Sita Ramayana by Viswanatha Satyanarayana, Genre: Telugu, ISBN: 909090909, Available: 6\n",
      "Sri Ramayana Darshanam by K. V. Puttappa, Genre: Telugu, ISBN: 111111111, Available: 7\n",
      "Chandamama Kathalu by Various Authors, Genre: Telugu, ISBN: 121212121, Available: 9\n"
     ]
    }
   ],
   "source": [
    "# Book Returning: Returning a book\n",
    "library.return_book(\"M123\", \"111222333\")\n",
    "\n",
    "# Display Telugu books after returning one\n",
    "print(\"\\nTelugu books in the library after returning one:\")\n",
    "telugu_books_list = library.search_books(genre=\"Telugu\")\n",
    "for book in telugu_books_list:\n",
    "    print(book)\n"
   ]
  },
  {
   "cell_type": "code",
   "execution_count": 9,
   "id": "85435f89",
   "metadata": {},
   "outputs": [
    {
     "name": "stdout",
     "output_type": "stream",
     "text": [
      "\n",
      "Updating Telugu book information:\n",
      "Maa Telugu Talli by Nannayya, Genre: Telugu, ISBN: 111222333, Available: 10\n",
      "Veyi Padagalu by Viswanatha Satyanarayana, Genre: Telugu, ISBN: 444555666, Available: 6\n",
      "Amaravati Kathalu by Satyam Sankaramanchi, Genre: Telugu, ISBN: 777888999, Available: 7\n",
      "Yajnaseni by Pratibha Ray, Genre: Telugu, ISBN: 101010101, Available: 6\n",
      "Aavakaaya Manaa Andhra by Ranganayakamma, Genre: Telugu, ISBN: 202020202, Available: 5\n",
      "Parijatapaharanamu by Nanne Choda, Genre: Telugu, ISBN: 303030303, Available: 4\n",
      "Pandavodyam by Gurajada Apparao, Genre: Telugu, ISBN: 404040404, Available: 6\n",
      "Andhra Mahabharatam by Nannayya, Tikkana, Errana, Genre: Telugu, ISBN: 505050505, Available: 10\n",
      "Swapna Vasavadatta (Updated Edition) by Bhasa, Genre: Telugu, ISBN: 606060606, Available: 8\n",
      "Gona Ganna Reddy by Adavi Bapiraju, Genre: Telugu, ISBN: 707070707, Available: 5\n",
      "Sahityam by Dr. C. Narayana Reddy, Genre: Telugu, ISBN: 808080808, Available: 8\n",
      "Sita Ramayana by Viswanatha Satyanarayana, Genre: Telugu, ISBN: 909090909, Available: 6\n",
      "Sri Ramayana Darshanam by K. V. Puttappa, Genre: Telugu, ISBN: 111111111, Available: 7\n",
      "Chandamama Kathalu by Various Authors, Genre: Telugu, ISBN: 121212121, Available: 9\n"
     ]
    }
   ],
   "source": [
    "print(\"\\nUpdating Telugu book information:\")\n",
    "library.update_book(\"606060606\", title=\"Swapna Vasavadatta (Updated Edition)\", quantity=8)\n",
    "telugu_books_list = library.search_books(genre=\"Telugu\")\n",
    "for book in telugu_books_list:\n",
    "    print(book)\n"
   ]
  },
  {
   "cell_type": "code",
   "execution_count": 10,
   "id": "5619dfa5",
   "metadata": {},
   "outputs": [
    {
     "name": "stdout",
     "output_type": "stream",
     "text": [
      "\n",
      "Updating borrower information:\n",
      "Borrower: Sai Prabhu, Contact: 1234567890, ID: M123\n",
      "Borrower: Tulasi, Contact: 9876543210, ID: M124\n",
      "Borrower: Ajad, Contact: 4567891230, ID: M125\n",
      "Borrower: Vedya MahaLakshmi, Contact: 9210009999, ID: M126\n"
     ]
    }
   ],
   "source": [
    "print(\"\\nUpdating borrower information:\")\n",
    "library.update_borrower(\"M126\", contact=\"9210009999\")\n",
    "library.display_borrowers()\n"
   ]
  },
  {
   "cell_type": "code",
   "execution_count": 11,
   "id": "6bf48629",
   "metadata": {},
   "outputs": [
    {
     "name": "stdout",
     "output_type": "stream",
     "text": [
      "\n",
      "Removing a Telugu book:\n",
      "Maa Telugu Talli by Nannayya, Genre: Telugu, ISBN: 111222333, Available: 10\n",
      "Veyi Padagalu by Viswanatha Satyanarayana, Genre: Telugu, ISBN: 444555666, Available: 6\n",
      "Amaravati Kathalu by Satyam Sankaramanchi, Genre: Telugu, ISBN: 777888999, Available: 7\n",
      "Yajnaseni by Pratibha Ray, Genre: Telugu, ISBN: 101010101, Available: 6\n",
      "Aavakaaya Manaa Andhra by Ranganayakamma, Genre: Telugu, ISBN: 202020202, Available: 5\n",
      "Pandavodyam by Gurajada Apparao, Genre: Telugu, ISBN: 404040404, Available: 6\n",
      "Andhra Mahabharatam by Nannayya, Tikkana, Errana, Genre: Telugu, ISBN: 505050505, Available: 10\n",
      "Swapna Vasavadatta (Updated Edition) by Bhasa, Genre: Telugu, ISBN: 606060606, Available: 8\n",
      "Gona Ganna Reddy by Adavi Bapiraju, Genre: Telugu, ISBN: 707070707, Available: 5\n",
      "Sahityam by Dr. C. Narayana Reddy, Genre: Telugu, ISBN: 808080808, Available: 8\n",
      "Sita Ramayana by Viswanatha Satyanarayana, Genre: Telugu, ISBN: 909090909, Available: 6\n",
      "Sri Ramayana Darshanam by K. V. Puttappa, Genre: Telugu, ISBN: 111111111, Available: 7\n",
      "Chandamama Kathalu by Various Authors, Genre: Telugu, ISBN: 121212121, Available: 9\n"
     ]
    }
   ],
   "source": [
    "# Book Management: Remove a Telugu book\n",
    "print(\"\\nRemoving a Telugu book:\")\n",
    "library.remove_book(\"303030303\")\n",
    "telugu_books_list = library.search_books(genre=\"Telugu\")\n",
    "for book in telugu_books_list:\n",
    "    print(book)\n"
   ]
  },
  {
   "cell_type": "code",
   "execution_count": 12,
   "id": "7b838e13",
   "metadata": {},
   "outputs": [
    {
     "name": "stdout",
     "output_type": "stream",
     "text": [
      "\n",
      "Removing a borrower:\n",
      "Borrower: Sai Prabhu, Contact: 1234567890, ID: M123\n",
      "Borrower: Tulasi, Contact: 9876543210, ID: M124\n",
      "Borrower: Ajad, Contact: 4567891230, ID: M125\n"
     ]
    }
   ],
   "source": [
    "# Borrower Management: Remove a borrower\n",
    "print(\"\\nRemoving a borrower:\")\n",
    "library.remove_borrower(\"M126\")\n",
    "library.display_borrowers()\n"
   ]
  },
  {
   "cell_type": "code",
   "execution_count": null,
   "id": "d15e705b",
   "metadata": {},
   "outputs": [],
   "source": []
  }
 ],
 "metadata": {
  "kernelspec": {
   "display_name": "Python 3 (ipykernel)",
   "language": "python",
   "name": "python3"
  },
  "language_info": {
   "codemirror_mode": {
    "name": "ipython",
    "version": 3
   },
   "file_extension": ".py",
   "mimetype": "text/x-python",
   "name": "python",
   "nbconvert_exporter": "python",
   "pygments_lexer": "ipython3",
   "version": "3.9.13"
  }
 },
 "nbformat": 4,
 "nbformat_minor": 5
}
